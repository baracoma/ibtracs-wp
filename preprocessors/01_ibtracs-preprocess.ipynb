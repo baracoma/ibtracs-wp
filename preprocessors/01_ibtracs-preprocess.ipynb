{
 "cells": [
  {
   "cell_type": "markdown",
   "id": "77f9d59d-3203-4885-8207-a0ea61375a1d",
   "metadata": {},
   "source": [
    "### Imports"
   ]
  },
  {
   "cell_type": "code",
   "execution_count": 1,
   "id": "50e706b7-4d26-4291-be7a-91825f15420f",
   "metadata": {},
   "outputs": [],
   "source": [
    "import os\n",
    "import geopandas as gpd\n",
    "import pandas as pd\n",
    "from shapely.geometry import Point, Polygon, LineString\n",
    "from shapely.prepared import prep\n",
    "from shapely.ops import split\n",
    "import matplotlib.pyplot as plt\n",
    "import matplotlib.patches as mpatches\n",
    "import numpy as np\n",
    "from tqdm.auto import tqdm\n",
    "\n",
    "import cartopy.crs as ccrs\n",
    "import cartopy.feature as cfeature\n",
    "import matplotlib.ticker as mticker\n",
    "from cartopy.mpl.gridliner import LONGITUDE_FORMATTER, LATITUDE_FORMATTER\n"
   ]
  },
  {
   "cell_type": "markdown",
   "id": "fd87fc56-7814-4792-9932-9047710e935a",
   "metadata": {},
   "source": [
    "### Load files"
   ]
  },
  {
   "cell_type": "code",
   "execution_count": 2,
   "id": "a5959ffa-70e3-42d0-8420-86ca6830bb0d",
   "metadata": {},
   "outputs": [],
   "source": [
    "gis_path = \"~/data/gis/vector/\"\n",
    "ibtracs_load = pd.read_csv(gis_path+\"/ibtracs/ibtracs.WP.list.v04r01.csv\", low_memory=False ,skiprows = [1])"
   ]
  },
  {
   "cell_type": "code",
   "execution_count": 3,
   "id": "27f3af6c-f6e9-408b-9b69-e7e350b2e8e2",
   "metadata": {},
   "outputs": [
    {
     "name": "stdout",
     "output_type": "stream",
     "text": [
      "['SID', 'SEASON', 'NUMBER', 'BASIN', 'SUBBASIN', 'NAME', 'ISO_TIME', 'NATURE', 'LAT', 'LON', 'WMO_WIND', 'WMO_PRES', 'WMO_AGENCY', 'TRACK_TYPE', 'DIST2LAND', 'LANDFALL', 'IFLAG', 'USA_AGENCY', 'USA_ATCF_ID', 'USA_LAT', 'USA_LON', 'USA_RECORD', 'USA_STATUS', 'USA_WIND', 'USA_PRES', 'USA_SSHS', 'USA_R34_NE', 'USA_R34_SE', 'USA_R34_SW', 'USA_R34_NW', 'USA_R50_NE', 'USA_R50_SE', 'USA_R50_SW', 'USA_R50_NW', 'USA_R64_NE', 'USA_R64_SE', 'USA_R64_SW', 'USA_R64_NW', 'USA_POCI', 'USA_ROCI', 'USA_RMW', 'USA_EYE', 'TOKYO_LAT', 'TOKYO_LON', 'TOKYO_GRADE', 'TOKYO_WIND', 'TOKYO_PRES', 'TOKYO_R50_DIR', 'TOKYO_R50_LONG', 'TOKYO_R50_SHORT', 'TOKYO_R30_DIR', 'TOKYO_R30_LONG', 'TOKYO_R30_SHORT', 'TOKYO_LAND', 'CMA_LAT', 'CMA_LON', 'CMA_CAT', 'CMA_WIND', 'CMA_PRES', 'HKO_LAT', 'HKO_LON', 'HKO_CAT', 'HKO_WIND', 'HKO_PRES', 'KMA_LAT', 'KMA_LON', 'KMA_CAT', 'KMA_WIND', 'KMA_PRES', 'KMA_R50_DIR', 'KMA_R50_LONG', 'KMA_R50_SHORT', 'KMA_R30_DIR', 'KMA_R30_LONG', 'KMA_R30_SHORT', 'NEWDELHI_LAT', 'NEWDELHI_LON', 'NEWDELHI_GRADE', 'NEWDELHI_WIND', 'NEWDELHI_PRES', 'NEWDELHI_CI', 'NEWDELHI_DP', 'NEWDELHI_POCI', 'REUNION_LAT', 'REUNION_LON', 'REUNION_TYPE', 'REUNION_WIND', 'REUNION_PRES', 'REUNION_TNUM', 'REUNION_CI', 'REUNION_RMW', 'REUNION_R34_NE', 'REUNION_R34_SE', 'REUNION_R34_SW', 'REUNION_R34_NW', 'REUNION_R50_NE', 'REUNION_R50_SE', 'REUNION_R50_SW', 'REUNION_R50_NW', 'REUNION_R64_NE', 'REUNION_R64_SE', 'REUNION_R64_SW', 'REUNION_R64_NW', 'BOM_LAT', 'BOM_LON', 'BOM_TYPE', 'BOM_WIND', 'BOM_PRES', 'BOM_TNUM', 'BOM_CI', 'BOM_RMW', 'BOM_R34_NE', 'BOM_R34_SE', 'BOM_R34_SW', 'BOM_R34_NW', 'BOM_R50_NE', 'BOM_R50_SE', 'BOM_R50_SW', 'BOM_R50_NW', 'BOM_R64_NE', 'BOM_R64_SE', 'BOM_R64_SW', 'BOM_R64_NW', 'BOM_ROCI', 'BOM_POCI', 'BOM_EYE', 'BOM_POS_METHOD', 'BOM_PRES_METHOD', 'NADI_LAT', 'NADI_LON', 'NADI_CAT', 'NADI_WIND', 'NADI_PRES', 'WELLINGTON_LAT', 'WELLINGTON_LON', 'WELLINGTON_WIND', 'WELLINGTON_PRES', 'DS824_LAT', 'DS824_LON', 'DS824_STAGE', 'DS824_WIND', 'DS824_PRES', 'TD9636_LAT', 'TD9636_LON', 'TD9636_STAGE', 'TD9636_WIND', 'TD9636_PRES', 'TD9635_LAT', 'TD9635_LON', 'TD9635_WIND', 'TD9635_PRES', 'TD9635_ROCI', 'NEUMANN_LAT', 'NEUMANN_LON', 'NEUMANN_CLASS', 'NEUMANN_WIND', 'NEUMANN_PRES', 'MLC_LAT', 'MLC_LON', 'MLC_CLASS', 'MLC_WIND', 'MLC_PRES', 'USA_GUST', 'BOM_GUST', 'BOM_GUST_PER', 'REUNION_GUST', 'REUNION_GUST_PER', 'USA_SEAHGT', 'USA_SEARAD_NE', 'USA_SEARAD_SE', 'USA_SEARAD_SW', 'USA_SEARAD_NW', 'STORM_SPEED', 'STORM_DIR']\n"
     ]
    }
   ],
   "source": [
    "print(ibtracs_load.columns.tolist())"
   ]
  },
  {
   "cell_type": "code",
   "execution_count": 4,
   "id": "c6aba11a-f03f-406b-8d9b-d842200761c9",
   "metadata": {
    "scrolled": true
   },
   "outputs": [],
   "source": [
    "keep_cols = [\"SID\", \"ISO_TIME\", \"LAT\", \"LON\", \"WMO_WIND\", \"WMO_PRES\", \"STORM_SPEED\", \"STORM_DIR\"]\n",
    "ibtracs = ibtracs_load[keep_cols].copy()\n",
    "ibtracs[\"ISO_TIME\"] = pd.to_datetime(ibtracs[\"ISO_TIME\"], errors=\"coerce\")"
   ]
  },
  {
   "cell_type": "code",
   "execution_count": 5,
   "id": "2d32bbb1-ffa7-4504-9341-6049022bbba7",
   "metadata": {},
   "outputs": [],
   "source": [
    "# Convert to GeoDataFrame\n",
    "gdf_tracks = gpd.GeoDataFrame(\n",
    "    ibtracs,\n",
    "    geometry=gpd.points_from_xy(ibtracs[\"LON\"], ibtracs[\"LAT\"]),\n",
    "    crs=\"EPSG:4326\"\n",
    ")"
   ]
  },
  {
   "cell_type": "code",
   "execution_count": 6,
   "id": "00760bfd-ed12-4608-a6a0-5b83d25583a2",
   "metadata": {},
   "outputs": [
    {
     "data": {
      "image/png": "[encoded data removed]",
      "text/plain": [
       "<Figure size 640x480 with 1 Axes>"
      ]
     },
     "metadata": {},
     "output_type": "display_data"
    }
   ],
   "source": [
    "gdf_tracks.plot()\n",
    "plt.show()"
   ]
  },
  {
   "cell_type": "code",
   "execution_count": 7,
   "id": "16b84baa-b74c-486e-8030-97c5cb8834f1",
   "metadata": {},
   "outputs": [
    {
     "name": "stdout",
     "output_type": "stream",
     "text": [
      "['SID', 'ISO_TIME', 'LAT', 'LON', 'WMO_WIND', 'WMO_PRES', 'STORM_SPEED', 'STORM_DIR', 'geometry']\n"
     ]
    }
   ],
   "source": [
    "print(gdf_tracks.columns.tolist())"
   ]
  },
  {
   "cell_type": "code",
   "execution_count": 8,
   "id": "007e54f9-0f7a-4d75-b222-3ee7e8072977",
   "metadata": {},
   "outputs": [
    {
     "name": "stderr",
     "output_type": "stream",
     "text": [
      "ERROR 1: PROJ: proj_create_from_database: Open of /home/jupyter-bbr/.conda/envs/ibtracs-wp-preprocess/share/proj failed\n"
     ]
    }
   ],
   "source": [
    "gdf_coast  = gpd.read_file(\"ph-coast.gpkg\").to_crs(4326)\n",
    "gdf_waters = gpd.read_file(\"ph-waters.gpkg\").to_crs(4326)\n",
    "gdf_par    = gpd.read_file(\"ph-par.gpkg\").to_crs(4326)\n",
    "\n",
    "gdf_waters_shape = gdf_waters.geometry.iloc[0]\n",
    "gdf_par_shape = gdf_par.geometry[0]"
   ]
  },
  {
   "cell_type": "markdown",
   "id": "2c9e2d9a-752b-4151-a7a8-c0887dc990a9",
   "metadata": {},
   "source": [
    "### Calculate TC Intersections"
   ]
  },
  {
   "cell_type": "code",
   "execution_count": 9,
   "id": "b6203f84-4369-4f2f-be03-08bbf9c069ad",
   "metadata": {},
   "outputs": [
    {
     "data": {
      "application/vnd.jupyter.widget-view+json": {
       "model_id": "0de43847a85b4b45853a8a5a9b79bb5b",
       "version_major": 2,
       "version_minor": 0
      },
      "text/plain": [
       "  0%|          | 0/4187 [00:00<?, ?it/s]"
      ]
     },
     "metadata": {},
     "output_type": "display_data"
    },
    {
     "name": "stdout",
     "output_type": "stream",
     "text": [
      "1183 TCs intersected PH.\n",
      "2817 TCs intersected PAR.\n"
     ]
    }
   ],
   "source": [
    "ph_prepared = prep(gdf_waters.geometry[0])\n",
    "par_prepared = prep(gdf_par.geometry[0])\n",
    "\n",
    "# Also get their bounding boxes for a fast first filter\n",
    "ph_bounds = gdf_waters_shape.bounds\n",
    "par_bounds = gdf_par_shape.bounds\n",
    "\n",
    "intersect_results = []\n",
    "\n",
    "for sid, group in tqdm(gdf_tracks.groupby(\"SID\")):\n",
    "    points = list(group.sort_values(\"ISO_TIME\")[\"geometry\"])\n",
    "    if len(points) < 2:\n",
    "        continue  # Skip storms with insufficient points\n",
    "\n",
    "    track_line = LineString(points)\n",
    "    line_bounds = track_line.bounds\n",
    "\n",
    "    # Fast bounding box skip\n",
    "    skip_ph = (line_bounds[2] < ph_bounds[0]) or (line_bounds[0] > ph_bounds[2]) or \\\n",
    "              (line_bounds[3] < ph_bounds[1]) or (line_bounds[1] > ph_bounds[3])\n",
    "\n",
    "    skip_par = (line_bounds[2] < par_bounds[0]) or (line_bounds[0] > par_bounds[2]) or \\\n",
    "               (line_bounds[3] < par_bounds[1]) or (line_bounds[1] > par_bounds[3])\n",
    "\n",
    "    # Use prepped geometry for faster intersects\n",
    "    intersects_ph = False if skip_ph else ph_prepared.intersects(track_line)\n",
    "    intersects_par = False if skip_par else par_prepared.intersects(track_line)\n",
    "\n",
    "    intersect_results.append({\n",
    "        \"SID\": sid,\n",
    "        \"intersects_ph\": intersects_ph,\n",
    "        \"intersects_par\": intersects_par\n",
    "    })\n",
    "\n",
    "# Wrap in DataFrame\n",
    "df_intersects = pd.DataFrame(intersect_results)\n",
    "\n",
    "# Final counts\n",
    "n_track_in_ph = df_intersects[\"intersects_ph\"].sum()\n",
    "n_track_in_par = df_intersects[\"intersects_par\"].sum()\n",
    "\n",
    "print(f\"{n_track_in_ph} TCs intersected PH.\")\n",
    "print(f\"{n_track_in_par} TCs intersected PAR.\")\n"
   ]
  },
  {
   "cell_type": "code",
   "execution_count": 10,
   "id": "5a2bf335-2ce2-4d66-93a4-7f6bc44c77d5",
   "metadata": {},
   "outputs": [],
   "source": [
    "gdf_tracks = gdf_tracks.merge(\n",
    "    df_intersects,\n",
    "    on=\"SID\",\n",
    "    how=\"left\"\n",
    ")\n"
   ]
  },
  {
   "cell_type": "code",
   "execution_count": 11,
   "id": "7fb8b894-7b9c-4939-a309-721449d61ebd",
   "metadata": {},
   "outputs": [
    {
     "data": {
      "text/html": [
       "<div>\n",
       "<style scoped>\n",
       "    .dataframe tbody tr th:only-of-type {\n",
       "        vertical-align: middle;\n",
       "    }\n",
       "\n",
       "    .dataframe tbody tr th {\n",
       "        vertical-align: top;\n",
       "    }\n",
       "\n",
       "    .dataframe thead th {\n",
       "        text-align: right;\n",
       "    }\n",
       "</style>\n",
       "<table border=\"1\" class=\"dataframe\">\n",
       "  <thead>\n",
       "    <tr style=\"text-align: right;\">\n",
       "      <th></th>\n",
       "      <th>SID</th>\n",
       "      <th>ISO_TIME</th>\n",
       "      <th>LAT</th>\n",
       "      <th>LON</th>\n",
       "      <th>WMO_WIND</th>\n",
       "      <th>WMO_PRES</th>\n",
       "      <th>STORM_SPEED</th>\n",
       "      <th>STORM_DIR</th>\n",
       "      <th>geometry</th>\n",
       "      <th>intersects_ph</th>\n",
       "      <th>intersects_par</th>\n",
       "    </tr>\n",
       "  </thead>\n",
       "  <tbody>\n",
       "    <tr>\n",
       "      <th>0</th>\n",
       "      <td>1884177N17124</td>\n",
       "      <td>1884-06-24 16:00:00</td>\n",
       "      <td>16.5</td>\n",
       "      <td>124.0</td>\n",
       "      <td></td>\n",
       "      <td></td>\n",
       "      <td>6</td>\n",
       "      <td>280</td>\n",
       "      <td>POINT (124 16.5)</td>\n",
       "      <td>True</td>\n",
       "      <td>True</td>\n",
       "    </tr>\n",
       "    <tr>\n",
       "      <th>1</th>\n",
       "      <td>1884177N17124</td>\n",
       "      <td>1884-06-24 18:00:00</td>\n",
       "      <td>16.5</td>\n",
       "      <td>123.8</td>\n",
       "      <td></td>\n",
       "      <td></td>\n",
       "      <td>6</td>\n",
       "      <td>280</td>\n",
       "      <td>POINT (123.8 16.5)</td>\n",
       "      <td>True</td>\n",
       "      <td>True</td>\n",
       "    </tr>\n",
       "    <tr>\n",
       "      <th>2</th>\n",
       "      <td>1884177N17124</td>\n",
       "      <td>1884-06-24 21:00:00</td>\n",
       "      <td>16.6</td>\n",
       "      <td>123.5</td>\n",
       "      <td></td>\n",
       "      <td></td>\n",
       "      <td>6</td>\n",
       "      <td>285</td>\n",
       "      <td>POINT (123.5 16.6)</td>\n",
       "      <td>True</td>\n",
       "      <td>True</td>\n",
       "    </tr>\n",
       "    <tr>\n",
       "      <th>3</th>\n",
       "      <td>1884177N17124</td>\n",
       "      <td>1884-06-25 00:00:00</td>\n",
       "      <td>16.7</td>\n",
       "      <td>123.2</td>\n",
       "      <td></td>\n",
       "      <td></td>\n",
       "      <td>6</td>\n",
       "      <td>285</td>\n",
       "      <td>POINT (123.2 16.7)</td>\n",
       "      <td>True</td>\n",
       "      <td>True</td>\n",
       "    </tr>\n",
       "    <tr>\n",
       "      <th>4</th>\n",
       "      <td>1884177N17124</td>\n",
       "      <td>1884-06-25 03:00:00</td>\n",
       "      <td>16.8</td>\n",
       "      <td>122.9</td>\n",
       "      <td></td>\n",
       "      <td></td>\n",
       "      <td>6</td>\n",
       "      <td>290</td>\n",
       "      <td>POINT (122.9 16.8)</td>\n",
       "      <td>True</td>\n",
       "      <td>True</td>\n",
       "    </tr>\n",
       "  </tbody>\n",
       "</table>\n",
       "</div>"
      ],
      "text/plain": [
       "             SID            ISO_TIME   LAT    LON WMO_WIND WMO_PRES  \\\n",
       "0  1884177N17124 1884-06-24 16:00:00  16.5  124.0                     \n",
       "1  1884177N17124 1884-06-24 18:00:00  16.5  123.8                     \n",
       "2  1884177N17124 1884-06-24 21:00:00  16.6  123.5                     \n",
       "3  1884177N17124 1884-06-25 00:00:00  16.7  123.2                     \n",
       "4  1884177N17124 1884-06-25 03:00:00  16.8  122.9                     \n",
       "\n",
       "  STORM_SPEED STORM_DIR            geometry intersects_ph intersects_par  \n",
       "0           6       280    POINT (124 16.5)          True           True  \n",
       "1           6       280  POINT (123.8 16.5)          True           True  \n",
       "2           6       285  POINT (123.5 16.6)          True           True  \n",
       "3           6       285  POINT (123.2 16.7)          True           True  \n",
       "4           6       290  POINT (122.9 16.8)          True           True  "
      ]
     },
     "execution_count": 11,
     "metadata": {},
     "output_type": "execute_result"
    }
   ],
   "source": [
    "gdf_tracks.head()"
   ]
  },
  {
   "cell_type": "code",
   "execution_count": 12,
   "id": "75a2249c-63ca-4958-b842-a3f8ae674b1d",
   "metadata": {},
   "outputs": [],
   "source": [
    "# After converting ISO_TIME to datetime:\n",
    "gdf_tracks[\"hour\"] = gdf_tracks[\"ISO_TIME\"].dt.hour\n",
    "\n",
    "# Keep only rows where hour is in [0, 6, 12, 18]:\n",
    "gdf_tracks = gdf_tracks[gdf_tracks[\"hour\"].isin([0, 6, 12, 18])].copy()\n",
    "gdf_tracks.drop(columns=[\"hour\"], inplace=True)\n"
   ]
  },
  {
   "cell_type": "code",
   "execution_count": 13,
   "id": "47d5229a-0140-4cdc-802b-84d94e46f0c5",
   "metadata": {},
   "outputs": [
    {
     "data": {
      "text/html": [
       "<div>\n",
       "<style scoped>\n",
       "    .dataframe tbody tr th:only-of-type {\n",
       "        vertical-align: middle;\n",
       "    }\n",
       "\n",
       "    .dataframe tbody tr th {\n",
       "        vertical-align: top;\n",
       "    }\n",
       "\n",
       "    .dataframe thead th {\n",
       "        text-align: right;\n",
       "    }\n",
       "</style>\n",
       "<table border=\"1\" class=\"dataframe\">\n",
       "  <thead>\n",
       "    <tr style=\"text-align: right;\">\n",
       "      <th></th>\n",
       "      <th>SID</th>\n",
       "      <th>ISO_TIME</th>\n",
       "      <th>LAT</th>\n",
       "      <th>LON</th>\n",
       "      <th>WMO_WIND</th>\n",
       "      <th>WMO_PRES</th>\n",
       "      <th>STORM_SPEED</th>\n",
       "      <th>STORM_DIR</th>\n",
       "      <th>geometry</th>\n",
       "      <th>intersects_ph</th>\n",
       "      <th>intersects_par</th>\n",
       "    </tr>\n",
       "  </thead>\n",
       "  <tbody>\n",
       "    <tr>\n",
       "      <th>1</th>\n",
       "      <td>1884177N17124</td>\n",
       "      <td>1884-06-24 18:00:00</td>\n",
       "      <td>16.5</td>\n",
       "      <td>123.8</td>\n",
       "      <td></td>\n",
       "      <td></td>\n",
       "      <td>6</td>\n",
       "      <td>280</td>\n",
       "      <td>POINT (123.8 16.5)</td>\n",
       "      <td>True</td>\n",
       "      <td>True</td>\n",
       "    </tr>\n",
       "    <tr>\n",
       "      <th>3</th>\n",
       "      <td>1884177N17124</td>\n",
       "      <td>1884-06-25 00:00:00</td>\n",
       "      <td>16.7</td>\n",
       "      <td>123.2</td>\n",
       "      <td></td>\n",
       "      <td></td>\n",
       "      <td>6</td>\n",
       "      <td>285</td>\n",
       "      <td>POINT (123.2 16.7)</td>\n",
       "      <td>True</td>\n",
       "      <td>True</td>\n",
       "    </tr>\n",
       "    <tr>\n",
       "      <th>6</th>\n",
       "      <td>1884177N17124</td>\n",
       "      <td>1884-06-25 06:00:00</td>\n",
       "      <td>16.9</td>\n",
       "      <td>122.6</td>\n",
       "      <td></td>\n",
       "      <td></td>\n",
       "      <td>6</td>\n",
       "      <td>295</td>\n",
       "      <td>POINT (122.6 16.9)</td>\n",
       "      <td>True</td>\n",
       "      <td>True</td>\n",
       "    </tr>\n",
       "    <tr>\n",
       "      <th>8</th>\n",
       "      <td>1884177N17124</td>\n",
       "      <td>1884-06-25 12:00:00</td>\n",
       "      <td>17.2</td>\n",
       "      <td>122.0</td>\n",
       "      <td></td>\n",
       "      <td></td>\n",
       "      <td>7</td>\n",
       "      <td>300</td>\n",
       "      <td>POINT (122 17.2)</td>\n",
       "      <td>True</td>\n",
       "      <td>True</td>\n",
       "    </tr>\n",
       "    <tr>\n",
       "      <th>11</th>\n",
       "      <td>1884177N17124</td>\n",
       "      <td>1884-06-25 18:00:00</td>\n",
       "      <td>17.5</td>\n",
       "      <td>121.4</td>\n",
       "      <td></td>\n",
       "      <td></td>\n",
       "      <td>7</td>\n",
       "      <td>295</td>\n",
       "      <td>POINT (121.4 17.5)</td>\n",
       "      <td>True</td>\n",
       "      <td>True</td>\n",
       "    </tr>\n",
       "    <tr>\n",
       "      <th>...</th>\n",
       "      <td>...</td>\n",
       "      <td>...</td>\n",
       "      <td>...</td>\n",
       "      <td>...</td>\n",
       "      <td>...</td>\n",
       "      <td>...</td>\n",
       "      <td>...</td>\n",
       "      <td>...</td>\n",
       "      <td>...</td>\n",
       "      <td>...</td>\n",
       "      <td>...</td>\n",
       "    </tr>\n",
       "    <tr>\n",
       "      <th>245109</th>\n",
       "      <td>2024358N10113</td>\n",
       "      <td>2024-12-25 00:00:00</td>\n",
       "      <td>10.5</td>\n",
       "      <td>110.8</td>\n",
       "      <td></td>\n",
       "      <td></td>\n",
       "      <td>10</td>\n",
       "      <td>215</td>\n",
       "      <td>POINT (110.8 10.5)</td>\n",
       "      <td>False</td>\n",
       "      <td>False</td>\n",
       "    </tr>\n",
       "    <tr>\n",
       "      <th>245111</th>\n",
       "      <td>2024358N10113</td>\n",
       "      <td>2024-12-25 06:00:00</td>\n",
       "      <td>9.6</td>\n",
       "      <td>110.3</td>\n",
       "      <td></td>\n",
       "      <td></td>\n",
       "      <td>7</td>\n",
       "      <td>205</td>\n",
       "      <td>POINT (110.3 9.6)</td>\n",
       "      <td>False</td>\n",
       "      <td>False</td>\n",
       "    </tr>\n",
       "    <tr>\n",
       "      <th>245113</th>\n",
       "      <td>2024358N10113</td>\n",
       "      <td>2024-12-25 12:00:00</td>\n",
       "      <td>9.3</td>\n",
       "      <td>110.1</td>\n",
       "      <td></td>\n",
       "      <td></td>\n",
       "      <td>6</td>\n",
       "      <td>225</td>\n",
       "      <td>POINT (110.1 9.3)</td>\n",
       "      <td>False</td>\n",
       "      <td>False</td>\n",
       "    </tr>\n",
       "    <tr>\n",
       "      <th>245115</th>\n",
       "      <td>2024358N10113</td>\n",
       "      <td>2024-12-25 18:00:00</td>\n",
       "      <td>8.7</td>\n",
       "      <td>109.3</td>\n",
       "      <td></td>\n",
       "      <td></td>\n",
       "      <td>10</td>\n",
       "      <td>255</td>\n",
       "      <td>POINT (109.3 8.7)</td>\n",
       "      <td>False</td>\n",
       "      <td>False</td>\n",
       "    </tr>\n",
       "    <tr>\n",
       "      <th>245117</th>\n",
       "      <td>2024358N10113</td>\n",
       "      <td>2024-12-26 00:00:00</td>\n",
       "      <td>8.8</td>\n",
       "      <td>108.3</td>\n",
       "      <td></td>\n",
       "      <td></td>\n",
       "      <td>10</td>\n",
       "      <td>285</td>\n",
       "      <td>POINT (108.3 8.8)</td>\n",
       "      <td>False</td>\n",
       "      <td>False</td>\n",
       "    </tr>\n",
       "  </tbody>\n",
       "</table>\n",
       "<p>119061 rows × 11 columns</p>\n",
       "</div>"
      ],
      "text/plain": [
       "                  SID            ISO_TIME   LAT    LON WMO_WIND WMO_PRES  \\\n",
       "1       1884177N17124 1884-06-24 18:00:00  16.5  123.8                     \n",
       "3       1884177N17124 1884-06-25 00:00:00  16.7  123.2                     \n",
       "6       1884177N17124 1884-06-25 06:00:00  16.9  122.6                     \n",
       "8       1884177N17124 1884-06-25 12:00:00  17.2  122.0                     \n",
       "11      1884177N17124 1884-06-25 18:00:00  17.5  121.4                     \n",
       "...               ...                 ...   ...    ...      ...      ...   \n",
       "245109  2024358N10113 2024-12-25 00:00:00  10.5  110.8                     \n",
       "245111  2024358N10113 2024-12-25 06:00:00   9.6  110.3                     \n",
       "245113  2024358N10113 2024-12-25 12:00:00   9.3  110.1                     \n",
       "245115  2024358N10113 2024-12-25 18:00:00   8.7  109.3                     \n",
       "245117  2024358N10113 2024-12-26 00:00:00   8.8  108.3                     \n",
       "\n",
       "       STORM_SPEED STORM_DIR            geometry intersects_ph intersects_par  \n",
       "1                6       280  POINT (123.8 16.5)          True           True  \n",
       "3                6       285  POINT (123.2 16.7)          True           True  \n",
       "6                6       295  POINT (122.6 16.9)          True           True  \n",
       "8                7       300    POINT (122 17.2)          True           True  \n",
       "11               7       295  POINT (121.4 17.5)          True           True  \n",
       "...            ...       ...                 ...           ...            ...  \n",
       "245109          10       215  POINT (110.8 10.5)         False          False  \n",
       "245111           7       205   POINT (110.3 9.6)         False          False  \n",
       "245113           6       225   POINT (110.1 9.3)         False          False  \n",
       "245115          10       255   POINT (109.3 8.7)         False          False  \n",
       "245117          10       285   POINT (108.3 8.8)         False          False  \n",
       "\n",
       "[119061 rows x 11 columns]"
      ]
     },
     "execution_count": 13,
     "metadata": {},
     "output_type": "execute_result"
    }
   ],
   "source": [
    "gdf_tracks"
   ]
  },
  {
   "cell_type": "code",
   "execution_count": null,
   "id": "da24017e-1ab5-45df-9bb5-205e591182c6",
   "metadata": {},
   "outputs": [],
   "source": []
  },
  {
   "cell_type": "code",
   "execution_count": 14,
   "id": "dd8c6f7a-7876-4a27-965e-ff2d5c4c0844",
   "metadata": {},
   "outputs": [],
   "source": [
    "gdf_tracks.to_feather(\"gdf_tracks.feather\")\n"
   ]
  },
  {
   "cell_type": "code",
   "execution_count": 15,
   "id": "7842bd48-88f4-457c-b53c-5f1465ef49d1",
   "metadata": {},
   "outputs": [],
   "source": [
    "df_tracks = gdf_tracks.drop(columns=[\"geometry\"]).copy()\n",
    "df_tracks.to_parquet(\"ibtracs_wp_tracks.parquet\")\n"
   ]
  }
 ],
 "metadata": {
  "kernelspec": {
   "display_name": "IBTrACS WP Preprocess",
   "language": "python",
   "name": "ibtracs-wp-preprocess"
  },
  "language_info": {
   "codemirror_mode": {
    "name": "ipython",
    "version": 3
   },
   "file_extension": ".py",
   "mimetype": "text/x-python",
   "name": "python",
   "nbconvert_exporter": "python",
   "pygments_lexer": "ipython3",
   "version": "3.11.13"
  }
 },
 "nbformat": 4,
 "nbformat_minor": 5
}
